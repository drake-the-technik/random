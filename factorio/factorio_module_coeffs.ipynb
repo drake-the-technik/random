{
 "cells": [
  {
   "cell_type": "code",
   "execution_count": null,
   "metadata": {},
   "outputs": [],
   "source": [
    "def calc_module_coeff(modules_list: list = [], beacon_modules: list = [], beacons_num: int = 0):\n",
    "    _speed_mod = [i['speed'] for i in modules_list if 'speed' in i.keys()]\n",
    "    _prod_mod = [i['prod'] for i in modules_list if 'prod' in i.keys()]\n",
    "    _coeff = (1 + sum(_speed_mod)) * (1 + sum(_prod_mod))\n",
    "    return _coeff\n",
    "\n",
    "\n",
    "def calc_production(factory_prod, modules_list: list = [], target_production = None):\n",
    "    # return production amount with modules and factories count, required to\n",
    "    # satisfy target production, or just production amount, if target_production\n",
    "    # is not given\n",
    "\n",
    "    _modules_coeff_total = calc_module_coeff(modules_list[:3])\n",
    "    _total_prod = factory_prod * _modules_coeff_total\n",
    "\n",
    "    if target_production is None:\n",
    "        return _total_prod, _total_prod / factory_prod\n",
    "    else:\n",
    "        return _total_prod, target_production / _total_prod\n",
    "\n",
    "\n",
    "module_prod = [\n",
    "    {\"speed\": -0.05, \"prod\": 0.04},\n",
    "    {\"speed\": -0.10, \"prod\": 0.06},\n",
    "    {\"speed\": -0.15, \"prod\": 0.10}\n",
    "]\n",
    "\n",
    "module_speed = [\n",
    "    {\"speed\": 0.2},\n",
    "    {\"speed\": 0.3},\n",
    "    {\"speed\": 0.5}\n",
    "]\n",
    "\n",
    "target_prod = 123456789.0\n",
    "plant_prod = 50.0\n",
    "modules = [\n",
    "    module_prod[2],\n",
    "    module_prod[2],\n",
    "    module_speed[2]\n",
    "]\n",
    "\n",
    "prod_rate = calc_production(plant_prod, modules, target_prod)\n",
    "print(f'{prod_rate[0]:>{len(str(max(prod_rate)))}} units / sec / plant\\n{prod_rate[1]:{len(str(max(prod_rate)))}} plants total')"
   ]
  },
  {
   "cell_type": "code",
   "execution_count": 21,
   "metadata": {},
   "outputs": [
    {
     "name": "stdout",
     "output_type": "stream",
     "text": [
      "{'min': 0.5599999999999999, 'base': 1, 'max': 3.0}\n",
      "Min:\t 10465.7\n",
      "Base:\t 5860.8\n",
      "Max:\t 1953.6\n"
     ]
    }
   ],
   "source": [
    "# prod / min\n",
    "mods_prod = {\n",
    "    \"min\": calc_module_coeff([module_prod[2] for _ in range(4)]),\n",
    "    \"base\": 1,\n",
    "    \"max\": calc_module_coeff([module_speed[2] for _ in range(4)])\n",
    "}\n",
    "\n",
    "target_items_q = 879121  # items / min\n",
    "factory_prod_rate = {\"base\": 150.0}\n",
    "factories_q = {\"base\": target_items_q / factory_prod_rate[\"base\"]}\n",
    "for i in [\"min\", \"max\"]:\n",
    "    factory_prod_rate.update({i: factory_prod_rate[\"base\"] * mods_prod[i]})\n",
    "    factories_q.update({i: factories_q[\"base\"] / mods_prod[i]})\n",
    "\n",
    "# factories_q[\"max\"] = factories_q[\"base\"] / mods_prod_max_speed\n",
    "# factories_q[\"min\"] = factories_q[\"base\"] / mods_prod_min_speed\n",
    "\n",
    "for i in ['min', 'base', 'max']:\n",
    "    print(i.capitalize()+':\\t', round(factories_q[i], 1), end='\\n')\n",
    "\n",
    "# import numpy as np\n",
    "# factories_q_possible = [[round(factories_q[\"base\"] / i, 2), round(i, 1)] for i in np.arange(round(mods_prod[\"min\"], 1), round(mods_prod[\"max\"], 1)+0.1, 0.1)]\n",
    "# factories_q_possible"
   ]
  },
  {
   "cell_type": "code",
   "execution_count": 9,
   "metadata": {},
   "outputs": [
    {
     "data": {
      "text/plain": [
       "1913.7066666666667"
      ]
     },
     "execution_count": 9,
     "metadata": {},
     "output_type": "execute_result"
    }
   ],
   "source": [
    "# items / min\n",
    "target_prod = 861168\n",
    "factory_prod = 150\n",
    "used_mods = [\n",
    "    module_speed[2],\n",
    "    module_speed[2],\n",
    "    module_speed[2],\n",
    "    module_speed[2],\n",
    "]\n",
    "target_prod / (factory_prod * calc_module_coeff(used_mods))"
   ]
  }
 ],
 "metadata": {
  "kernelspec": {
   "display_name": "Python 3",
   "language": "python",
   "name": "python3"
  },
  "language_info": {
   "codemirror_mode": {
    "name": "ipython",
    "version": 3
   },
   "file_extension": ".py",
   "mimetype": "text/x-python",
   "name": "python",
   "nbconvert_exporter": "python",
   "pygments_lexer": "ipython3",
   "version": "3.10.8"
  },
  "orig_nbformat": 4
 },
 "nbformat": 4,
 "nbformat_minor": 2
}
