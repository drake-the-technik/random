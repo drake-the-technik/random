{
 "cells": [
  {
   "cell_type": "code",
   "execution_count": 2,
   "metadata": {},
   "outputs": [
    {
     "name": "stdout",
     "output_type": "stream",
     "text": [
      "3 reaktors at 280 WMt of heat\n",
      "28 heat exchangers\n",
      "49 steam turbines\n",
      "3 water pumps\n",
      "\n",
      "Roughly 2 steam turbines and\n",
      " 1 water pumps at signle heat exchanger\n"
     ]
    }
   ],
   "source": [
    "from math import ceil\n",
    "\n",
    "class Reactor:\n",
    "    MWt_total = 0\n",
    "    def __init__(self,coefficients_mask: list):\n",
    "        for i in range(len(coefficients_mask)):\n",
    "            self.MWt_total += coefficients_mask[i] * 40 * (i + 1)\n",
    "    \n",
    "    # def __truediv__(self, b):\n",
    "    #     try:\n",
    "    #         return self.MWt_total / b.input[\"energy\"]\n",
    "    #     except KeyError:\n",
    "    #         return None\n",
    "\n",
    "class PowerUnit:\n",
    "    def __init__(self, input_type: dict, output_type: dict):\n",
    "        self.input = input_type\n",
    "        self.output = output_type  \n",
    "\n",
    "\n",
    "# define nuclear power plant units\n",
    "# item index == number of neighbouring reaktors\n",
    "# the_reaktors_coeffs = (0,0,4,2,0)\n",
    "the_reaktors_coeffs = (0,2,1)\n",
    "the_reaktors = Reactor(the_reaktors_coeffs)\n",
    "heat_exchanger = PowerUnit({\"water\": 10 / 0.097, \"heat\": 10}, {\"steam\": 10 / 0.097})\n",
    "steam_turbine = PowerUnit({\"steam\": 60}, {\"output\": 5.82})\n",
    "water_pump = PowerUnit({}, {\"water\": 1200})\n",
    "\n",
    "# calc count\n",
    "heat_exchanger_q = the_reaktors.MWt_total / heat_exchanger.input[\"heat\"]\n",
    "steam_turbine_q = (heat_exchanger.output[\"steam\"] * heat_exchanger_q) / steam_turbine.input[\"steam\"]\n",
    "water_pump_q = (heat_exchanger.input[\"water\"] * heat_exchanger_q) / water_pump.output[\"water\"]\n",
    "\n",
    "print(sum(the_reaktors_coeffs), \"reaktors at\", the_reaktors.MWt_total, \"WMt of heat\")\n",
    "print(ceil(heat_exchanger_q), \"heat exchangers\")\n",
    "print(ceil(steam_turbine_q), \"steam turbines\")\n",
    "print(ceil(water_pump_q), \"water pumps\")\n",
    "\n",
    "print()\n",
    "print(\"Roughly\",\n",
    "    ceil(heat_exchanger.output[\"steam\"] / steam_turbine.input[\"steam\"]), \"steam turbines and\\n\",\n",
    "    ceil(heat_exchanger.input[\"water\"] / water_pump.output[\"water\"]), \"water pumps at signle heat exchanger\"    \n",
    ")\n"
   ]
  },
  {
   "cell_type": "code",
   "execution_count": null,
   "metadata": {},
   "outputs": [],
   "source": [
    "from math import ceil\n",
    "\n",
    "def formatter(raw_value):\n",
    "    if raw_value % 1 != 0:\n",
    "        return f\"{ceil(raw_value)} (≈{round(raw_value, 2)})\"\n",
    "    else:\n",
    "        return f\"{round(raw_value)}\"        \n",
    "\n",
    "def nuclear_power_plant_calc(reactor_neighbouring_matrix: list):\n",
    "    reactors_MWt_total = sum((40 * (x + 1) * reactor_neighbouring_matrix[x]\n",
    "                            for x in range(len(reactor_neighbouring_matrix))\n",
    "                            ))\n",
    "    reactors_count = sum(reactor_neighbouring_matrix)\n",
    "\n",
    "    heat_exchangers_count = reactors_MWt_total / 10\n",
    "    heat_exchangers_prod = heat_exchangers_count * 10 / 0.097\n",
    "    steam_turbines_count = heat_exchangers_prod / 60\n",
    "    water_pumps_count = heat_exchangers_prod / 1200\n",
    "    \n",
    "    heat_exchangers_count = formatter(heat_exchangers_count)\n",
    "    steam_turbines_count = formatter(steam_turbines_count)\n",
    "    water_pumps_count = formatter(water_pumps_count)\n",
    "    _print_max_len = max(len(heat_exchangers_count), len(steam_turbines_count), len(water_pumps_count))\n",
    "\n",
    "    print(f\"{reactors_MWt_total} MWt of heat from {reactors_count} reactors requires\")\n",
    "    print(f\"{heat_exchangers_count:{_print_max_len}} heat exchangers\")\n",
    "    print(f\"{steam_turbines_count:{_print_max_len}} steam turbines and\")\n",
    "    print(f\"{water_pumps_count:{_print_max_len}} water pumps\")\n",
    "\n",
    "nuclear_power_plant_calc((0,0,4,0,0))"
   ]
  }
 ],
 "metadata": {
  "kernelspec": {
   "display_name": "Python 3",
   "language": "python",
   "name": "python3"
  },
  "language_info": {
   "codemirror_mode": {
    "name": "ipython",
    "version": 3
   },
   "file_extension": ".py",
   "mimetype": "text/x-python",
   "name": "python",
   "nbconvert_exporter": "python",
   "pygments_lexer": "ipython3",
   "version": "3.10.8"
  },
  "orig_nbformat": 4,
  "vscode": {
   "interpreter": {
    "hash": "beedbe2faf2f7048d727558d0bc3221e7eba2a0b921cac4d4771b2feb8f74b30"
   }
  }
 },
 "nbformat": 4,
 "nbformat_minor": 2
}
