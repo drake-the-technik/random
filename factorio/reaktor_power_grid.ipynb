{
 "cells": [
  {
   "cell_type": "code",
   "execution_count": 1,
   "metadata": {},
   "outputs": [],
   "source": [
    "class NuclearPowerPlant:\n",
    "    class Units:\n",
    "        def __init__(self):\n",
    "            self.reactors = 0\n",
    "            self.heat_exchangers = 0\n",
    "            self.steam_turbines = 0\n",
    "            self.water_pumps = 0\n",
    "        \n",
    "    def __init__(self, reactors_grid_template):\n",
    "        from math import ceil\n",
    "        ENERGY_PER_STEAM_UNIT = 10 / 0.097\n",
    "        self.units = self.Units()\n",
    "\n",
    "        grid = reactors_grid_template[:5]\n",
    "        reactors_heat_output = sum(grid[i] * i * 40 + 40 for i in range(len(grid)))\n",
    "\n",
    "        self.units.reactors = sum(grid)\n",
    "        self.units._heat = reactors_heat_output\n",
    "        self.units.heat_exchangers = reactors_heat_output / 10\n",
    "        self.units.steam_turbines = self.units.heat_exchangers * ENERGY_PER_STEAM_UNIT / 60\n",
    "        self.units.water_pumps = self.units.heat_exchangers * ENERGY_PER_STEAM_UNIT / 1200\n",
    "        self.electricity = ceil(self.units.steam_turbines) * 5.82\n",
    "\n",
    "    \n",
    "    def __str__(self):\n",
    "        from math import ceil\n",
    "        units = {k: ceil(v) for k, v in self.units.__dict__.items()}\n",
    "        line = f'For heat utilization from {units[\"reactors\"]} reactors required:\\n'+\\\n",
    "                f'{units[\"heat_exchangers\"]} heat exchangers,\\n'+\\\n",
    "                f'{units[\"water_pumps\"]} water pumps,\\n'+\\\n",
    "                f'{units[\"steam_turbines\"]} steam turbines.\\n'+\\\n",
    "                f'Max power generation: {round(self.electricity, 3)} MWt of electricity'\n",
    "        return line"
   ]
  },
  {
   "cell_type": "code",
   "execution_count": 5,
   "metadata": {},
   "outputs": [
    {
     "name": "stdout",
     "output_type": "stream",
     "text": [
      "For heat utilization from 3 reactors required:\n",
      "36 heat exchangers,\n",
      "4 water pumps,\n",
      "62 steam turbines.\n",
      "Max power generation: 360.84 MWt of electricity\n"
     ]
    }
   ],
   "source": [
    "plant = NuclearPowerPlant((0, 2, 1, 0, 0))\n",
    "print(plant)"
   ]
  }
 ],
 "metadata": {
  "kernelspec": {
   "display_name": "Python 3",
   "language": "python",
   "name": "python3"
  },
  "language_info": {
   "codemirror_mode": {
    "name": "ipython",
    "version": 3
   },
   "file_extension": ".py",
   "mimetype": "text/x-python",
   "name": "python",
   "nbconvert_exporter": "python",
   "pygments_lexer": "ipython3",
   "version": "3.10.8"
  },
  "orig_nbformat": 4
 },
 "nbformat": 4,
 "nbformat_minor": 2
}
