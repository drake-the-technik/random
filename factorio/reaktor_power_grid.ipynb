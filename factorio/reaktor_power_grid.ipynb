{
 "cells": [
  {
   "cell_type": "code",
   "execution_count": 18,
   "metadata": {},
   "outputs": [
    {
     "data": {
      "text/plain": [
       "520"
      ]
     },
     "execution_count": 18,
     "metadata": {},
     "output_type": "execute_result"
    }
   ],
   "source": [
    "def reaktor_calculation(reactor_grid: list):\n",
    "    # reactor_grid - is a list, where list index means\n",
    "    # number of neighbouring reactors in grid\n",
    "    # e.g. (0, 2, 1, 0, 0) means\n",
    "    # 0 single placed reactors\n",
    "    # 2 reactors with one neighbour\n",
    "    # 1 reactor, directly connected with 2 neighbours\n",
    "    # and so on\n",
    "    grid = reactor_grid[:5]\n",
    "\n",
    "    # Power formula for single reactor\n",
    "    # base 40 MWt + 40 MWt * directly connected neigbours count\n",
    "    heat_MWt_total = sum(i * grid[i] * 40 + 40 for i in range(len(grid)))\n",
    "    return heat_MWt_total\n",
    "\n",
    "\n",
    "the_grid = (0, 4, 0, 0, 1)\n",
    "reaktor_calculation(the_grid)\n",
    "\n",
    "water_pump = {\n",
    "    \"input\": {None: None},\n",
    "    \"output\": {\"water\": 1200}\n",
    "}\n",
    "heat_exchanger = {\n",
    "    \"input\": {\n",
    "        \"water\": 10 / 0.097,\n",
    "        \"heat\": 10\n",
    "    },\n",
    "    \"output\": {\n",
    "        \"steam\": 10\n",
    "    }\n",
    "}\n",
    "steam_turbine = {\n",
    "    \"input\": {\n",
    "        \"steam\": 60\n",
    "    },\n",
    "    \"output\": {\n",
    "        \"electricity\": 5.82\n",
    "    }\n",
    "}"
   ]
  },
  {
   "cell_type": "code",
   "execution_count": 2,
   "metadata": {},
   "outputs": [
    {
     "name": "stdout",
     "output_type": "stream",
     "text": [
      "Input:\t{}\n",
      "Output\t{'water': 1200}\n"
     ]
    }
   ],
   "source": [
    "class PowerUnit:\n",
    "    def __init__(self, input_resource : dict, output_resource: dict) -> None:\n",
    "        self.input = input_resource\n",
    "        self.output = output_resource\n",
    "    \n",
    "    def __str__(self) -> str:\n",
    "        return f'Input:\\t{self.input}\\nOutput\\t{self.output}'\n",
    "\n",
    "class Reaktor:\n",
    "    def __init__(self, grid_scheme: list):\n",
    "        grid = grid_scheme[:5]\n",
    "        \n",
    "\n",
    "class PowerGrid:\n",
    "    pass\n",
    "\n",
    "\n",
    "water_pump = PowerUnit({}, {\"water\": 1200})\n",
    "heat_exchanger = PowerUnit({\"water\": 10/0.097, \"heat\": 10}, {\"steam\": 10})\n",
    "steam_turbine = PowerUnit({\"steam\": 60}, {\"electricity\": 5.82})\n"
   ]
  }
 ],
 "metadata": {
  "kernelspec": {
   "display_name": "Python 3",
   "language": "python",
   "name": "python3"
  },
  "language_info": {
   "codemirror_mode": {
    "name": "ipython",
    "version": 3
   },
   "file_extension": ".py",
   "mimetype": "text/x-python",
   "name": "python",
   "nbconvert_exporter": "python",
   "pygments_lexer": "ipython3",
   "version": "3.10.8"
  },
  "orig_nbformat": 4
 },
 "nbformat": 4,
 "nbformat_minor": 2
}
