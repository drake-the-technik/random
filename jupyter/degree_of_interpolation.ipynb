{
 "cells": [
  {
   "cell_type": "code",
   "execution_count": 16,
   "metadata": {},
   "outputs": [
    {
     "name": "stdout",
     "output_type": "stream",
     "text": [
      "init start\n",
      "init done\n",
      "\n",
      "degrees 40.95279808487783\n",
      "\n",
      "point.normal = ()\n",
      "Reset normal\n",
      "[0.7071067811865476, 0.7071067811865476] 45.0\n",
      "point.offset_norm()\n",
      "Reset normal\n",
      "Reset direction\n",
      "[0.9999060498015505, 0.013707354604707477]\n"
     ]
    }
   ],
   "source": [
    "from math import sin, cos, asin, acos, atan2, radians, degrees, hypot\n",
    "\n",
    "\n",
    "class Vektor:\n",
    "    def __init__(self, position_xy: list, normal_xy: list):\n",
    "        print('init start')\n",
    "        self.position = list(position_xy)\n",
    "        self.normal = [x * (1 / hypot(*normal_xy)) for x in normal_xy]\n",
    "        self.direction = atan2(*self.normal)\n",
    "        print('init done\\n')\n",
    "    \n",
    "    def __setattr__(self, name, value) -> None:\n",
    "        if hasattr(self, name):\n",
    "            print('Reset ', end='')\n",
    "            if name == \"normal\":\n",
    "                print('normal')\n",
    "                self.set_normal(value)\n",
    "            elif name == \"direction\":\n",
    "                print('direction')\n",
    "                self.set_direction(value)\n",
    "        else:\n",
    "            object.__setattr__(self, name, value)\n",
    "\n",
    "    def set_normal(self, normal_xy):\n",
    "        super().__setattr__(\"normal\", [x * (1 / hypot(*normal_xy)) for x in normal_xy])\n",
    "        super().__setattr__(\"direction\", atan2(*self.normal))\n",
    "    \n",
    "    def set_direction(self, direction_deg):\n",
    "        super().__setattr__(\"direction\", radians(direction_deg))\n",
    "        super().__setattr__(\"normal\", [cos(self.direction), sin(self.direction)])\n",
    "    \n",
    "    def offset_norm(self, offset_value):\n",
    "        self.normal = [(x + offset_value) * (1 / hypot(*self.normal)) for x in self.normal]\n",
    "        self.direction = atan2(*self.normal)\n",
    "\n",
    "\n",
    "point = Vektor((12,515), (985, 1135))\n",
    "print('degrees', degrees(point.direction))\n",
    "print()\n",
    "\n",
    "print('point.normal = ()')\n",
    "point.normal = (12, 12)\n",
    "print(point.normal, degrees(point.direction))\n",
    "\n",
    "print('point.offset_norm()')\n",
    "point.offset_norm(1)\n",
    "print(point.normal)"
   ]
  }
 ],
 "metadata": {
  "kernelspec": {
   "display_name": "Python 3",
   "language": "python",
   "name": "python3"
  },
  "language_info": {
   "codemirror_mode": {
    "name": "ipython",
    "version": 3
   },
   "file_extension": ".py",
   "mimetype": "text/x-python",
   "name": "python",
   "nbconvert_exporter": "python",
   "pygments_lexer": "ipython3",
   "version": "3.10.8"
  },
  "orig_nbformat": 4
 },
 "nbformat": 4,
 "nbformat_minor": 2
}
